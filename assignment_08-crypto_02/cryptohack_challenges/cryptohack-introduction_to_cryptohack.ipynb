{
 "cells": [
  {
   "metadata": {},
   "cell_type": "markdown",
   "source": "# Cryptohack Challenges 01 - Introduction to Cryptohack\n",
   "id": "159beb2e5c3d037f"
  },
  {
   "metadata": {
    "ExecuteTime": {
     "end_time": "2024-10-30T08:31:50.970152Z",
     "start_time": "2024-10-30T08:31:50.968028Z"
    }
   },
   "cell_type": "code",
   "source": [
    "# Great SNakes\n",
    "\n",
    "#!/usr/bin/env python3\n",
    "\n",
    "import sys\n",
    "# import this\n",
    "\n",
    "if sys.version_info.major == 2:\n",
    "    print(\"You are running Python 2, which is no longer supported. Please update to Python 3.\")\n",
    "\n",
    "ords = [81, 64, 75, 66, 70, 93, 73, 72, 1, 92, 109, 2, 84, 109, 66, 75, 70, 90, 2, 92, 79]\n",
    "\n",
    "print(\"Here is your flag:\")\n",
    "print(\"\".join(chr(o ^ 0x32) for o in ords))"
   ],
   "id": "e30fd43cadd369f1",
   "outputs": [
    {
     "name": "stdout",
     "output_type": "stream",
     "text": [
      "Here is your flag:\n",
      "crypto{z3n_0f_pyth0n}\n"
     ]
    }
   ],
   "execution_count": 1
  },
  {
   "cell_type": "code",
   "id": "initial_id",
   "metadata": {
    "collapsed": true,
    "ExecuteTime": {
     "end_time": "2024-10-28T13:51:47.491539Z",
     "start_time": "2024-10-28T13:51:47.488297Z"
    }
   },
   "source": [
    "ascii_values = [99, 114, 121, 112, 116, 111, 123, 65, 83, 67, 73, 73, 95, 112, 114, 49, 110, 116, 52, 98, 108, 51, 125]\n",
    "\n",
    "# Convert each integer to its corresponding ASCII character and join to form the flag\n",
    "flag = ''.join(chr(value) for value in ascii_values)\n",
    "flag"
   ],
   "outputs": [
    {
     "data": {
      "text/plain": [
       "'crypto{ASCII_pr1nt4bl3}'"
      ]
     },
     "execution_count": 3,
     "metadata": {},
     "output_type": "execute_result"
    }
   ],
   "execution_count": 3
  },
  {
   "metadata": {
    "ExecuteTime": {
     "end_time": "2024-10-28T13:53:05.620189Z",
     "start_time": "2024-10-28T13:53:05.617704Z"
    }
   },
   "cell_type": "code",
   "source": [
    "# Included below is a flag encoded as a hex string. Decode this back into bytes to get the flag.\n",
    "\n",
    "hex_string = '63727970746f7b596f755f77696c6c5f62655f776f726b696e675f776974685f6865785f737472696e67735f615f6c6f747d'\n",
    "bytes.fromhex(hex_string)"
   ],
   "id": "cdcb1d82f588b372",
   "outputs": [
    {
     "data": {
      "text/plain": [
       "b'crypto{You_will_be_working_with_hex_strings_a_lot}'"
      ]
     },
     "execution_count": 4,
     "metadata": {},
     "output_type": "execute_result"
    }
   ],
   "execution_count": 4
  },
  {
   "metadata": {
    "ExecuteTime": {
     "end_time": "2024-10-28T14:00:25.484418Z",
     "start_time": "2024-10-28T14:00:25.482040Z"
    }
   },
   "cell_type": "code",
   "source": [
    "# Take the below hex string, decode it into bytes and then encode it into Base64.\n",
    "import base64\n",
    "\n",
    "hex_string_2 = '72bca9b68fc16ac7beeb8f849dca1d8a783e8acf9679bf9269f7bf'\n",
    "hex_bytes = bytes.fromhex(hex_string_2)\n",
    "\n",
    "base64_encoded = base64.b64encode(hex_bytes).decode(\"utf-8\")\n",
    "base64_encoded"
   ],
   "id": "c13cc18d1220add3",
   "outputs": [
    {
     "data": {
      "text/plain": [
       "'crypto/Base+64+Encoding+is+Web+Safe/'"
      ]
     },
     "execution_count": 13,
     "metadata": {},
     "output_type": "execute_result"
    }
   ],
   "execution_count": 13
  },
  {
   "metadata": {
    "ExecuteTime": {
     "end_time": "2024-10-28T14:04:11.916337Z",
     "start_time": "2024-10-28T14:04:11.912389Z"
    }
   },
   "cell_type": "code",
   "source": [
    "from Crypto.Util.number import *\n",
    "#  Python's PyCryptodome library implements this with the methods bytes_to_long() and long_to_bytes().\n",
    "\n",
    "# Convert the following integer back into a message:\n",
    "integer_value = 11515195063862318899931685488813747395775516287289682636499965282714637259206269\n",
    "\n",
    "# Convert the integer back to a byte message\n",
    "message = long_to_bytes(integer_value).decode(\"utf-8\")\n",
    "message\n"
   ],
   "id": "a5f7774cc73823bb",
   "outputs": [
    {
     "data": {
      "text/plain": [
       "'crypto{3nc0d1n6_4ll_7h3_w4y_d0wn}'"
      ]
     },
     "execution_count": 1,
     "metadata": {},
     "output_type": "execute_result"
    }
   ],
   "execution_count": 1
  },
  {
   "metadata": {
    "ExecuteTime": {
     "end_time": "2024-10-29T08:06:41.955618Z",
     "start_time": "2024-10-29T08:06:41.951613Z"
    }
   },
   "cell_type": "code",
   "source": [
    "# Given the string 'label', XOR each character with the integer 13. \n",
    "# Convert these integers back to a string and submit the flag as crypto{new_string}.\n",
    "\n",
    "# Given string\n",
    "label = \"label\"\n",
    "\n",
    "# XOR each character in the string with 13 and convert it back to a character\n",
    "new_string = ''.join(chr(ord(char) ^ 13) for char in label)\n",
    "\n",
    "# Format the final flag\n",
    "flag = f\"crypto{{{new_string}}}\"\n",
    "flag\n"
   ],
   "id": "7628a68f2531b2d2",
   "outputs": [
    {
     "data": {
      "text/plain": [
       "'crypto{aloha}'"
      ]
     },
     "execution_count": 2,
     "metadata": {},
     "output_type": "execute_result"
    }
   ],
   "execution_count": 2
  },
  {
   "metadata": {},
   "cell_type": "markdown",
   "source": [
    "# XOR Properties\n",
    "There are four main properties we should consider when we solve challenges using the XOR operator\n",
    "\n",
    "```\n",
    "Commutative: A ⊕ B = B ⊕ A\n",
    "Associative: A ⊕ (B ⊕ C) = (A ⊕ B) ⊕ C\n",
    "Identity: A ⊕ 0 = A\n",
    "Self-Inverse: A ⊕ A = 0\n",
    "```\n",
    "\n",
    "Let's break this down. Commutative means that the order of the XOR operations is not important. Associative means that a chain of operations can be carried out without order (we do not need to worry about brackets). The identity is 0, so XOR with 0 \"does nothing\", and lastly something XOR'd with itself returns zero.\n",
    "\n",
    "Let's put this into practice! Below is a series of outputs where three random keys have been XOR'd together and with the flag. Use the above properties to undo the encryption in the final line to obtain the flag.\n",
    "\n",
    "```\n",
    "KEY1 = a6c8b6733c9b22de7bc0253266a3867df55acde8635e19c73313\n",
    "KEY2 ^ KEY1 = 37dcb292030faa90d07eec17e3b1c6d8daf94c35d4c9191a5e1e\n",
    "KEY2 ^ KEY3 = c1545756687e7573db23aa1c3452a098b71a7fbf0fddddde5fc1\n",
    "FLAG ^ KEY1 ^ KEY3 ^ KEY2 = 04ee9855208a2cd59091d04767ae47963170d1660df7f56f5faf\n",
    "```\n"
   ],
   "id": "2f4b7bfcbec4a32d"
  },
  {
   "metadata": {
    "ExecuteTime": {
     "end_time": "2024-10-29T08:10:14.605319Z",
     "start_time": "2024-10-29T08:10:14.602157Z"
    }
   },
   "cell_type": "code",
   "source": [
    "# Re-checking the XOR logic with hex decoding, XOR properties, and correct ordering\n",
    "\n",
    "# Redefine given hexadecimal strings as bytes\n",
    "key1 = bytes.fromhex(\"a6c8b6733c9b22de7bc0253266a3867df55acde8635e19c73313\")\n",
    "key2_xor_key1 = bytes.fromhex(\"37dcb292030faa90d07eec17e3b1c6d8daf94c35d4c9191a5e1e\")\n",
    "key2_xor_key3 = bytes.fromhex(\"c1545756687e7573db23aa1c3452a098b71a7fbf0fddddde5fc1\")\n",
    "flag_xor_key1_key3_key2 = bytes.fromhex(\"04ee9855208a2cd59091d04767ae47963170d1660df7f56f5faf\")\n",
    "\n",
    "# Derive KEY2 from KEY1 and (KEY2 XOR KEY1)\n",
    "key2 = bytes(a ^ b for a, b in zip(key1, key2_xor_key1))\n",
    "\n",
    "# Derive KEY3 from KEY2 and (KEY2 XOR KEY3)\n",
    "key3 = bytes(a ^ b for a, b in zip(key2, key2_xor_key3))\n",
    "\n",
    "# Derive FLAG from FLAG XOR KEY1 XOR KEY3 XOR KEY2 by XOR-ing with KEY1, KEY2, and KEY3\n",
    "flag = bytes(a ^ b ^ c ^ d for a, b, c, d in zip(flag_xor_key1_key3_key2, key1, key2, key3))\n",
    "\n",
    "# Convert the final result to a readable string, if possible\n",
    "flag.decode(\"utf-8\")\n"
   ],
   "id": "c79e6b323adbf275",
   "outputs": [
    {
     "data": {
      "text/plain": [
       "'crypto{x0r_i5_ass0c1at1v3}'"
      ]
     },
     "execution_count": 3,
     "metadata": {},
     "output_type": "execute_result"
    }
   ],
   "execution_count": 3
  },
  {
   "metadata": {
    "ExecuteTime": {
     "end_time": "2024-10-29T08:17:01.902217Z",
     "start_time": "2024-10-29T08:17:01.899524Z"
    }
   },
   "cell_type": "code",
   "source": [
    "# I've hidden some data using XOR with a single byte, but that byte is a secret. Don't forget to decode from hex first.\n",
    "\n",
    "hex_string = \"73626960647f6b206821204f21254f7d694f7624662065622127234f726927756d\"\n",
    "byte_data = bytes.fromhex(hex_string)\n",
    "\n",
    "# Retry XOR decoding with a stricter validation to identify readable English text\n",
    "\n",
    "# Loop through possible single-byte keys\n",
    "for key in range(256):\n",
    "    # XOR each byte with the current key\n",
    "    decoded_bytes = bytes(b ^ key for b in byte_data)\n",
    "\n",
    "    # Convert the XORed bytes to a string and check if it forms readable text\n",
    "    try:\n",
    "        decoded_message = decoded_bytes.decode(\"utf-8\")\n",
    "        # Look for readable phrases starting with 'crypto{' as per previous flags\n",
    "        if \"crypto{\" in decoded_message:\n",
    "            flag = decoded_message\n",
    "            break\n",
    "    except UnicodeDecodeError:\n",
    "        continue  # Skip any non-decodable byte sequences\n",
    "\n",
    "flag\n"
   ],
   "id": "a75a96c93562ff9c",
   "outputs": [
    {
     "data": {
      "text/plain": [
       "'crypto{0x10_15_my_f4v0ur173_by7e}'"
      ]
     },
     "execution_count": 5,
     "metadata": {},
     "output_type": "execute_result"
    }
   ],
   "execution_count": 5
  },
  {
   "metadata": {
    "ExecuteTime": {
     "end_time": "2024-10-29T08:21:47.665624Z",
     "start_time": "2024-10-29T08:21:47.661873Z"
    }
   },
   "cell_type": "code",
   "source": [
    "# I've encrypted the flag with my secret key, you'll never be able to guess it.\n",
    "# Remember the flag format and how it might help you in this challenge!\n",
    "encrypted_hex = \"0e0b213f26041e480b26217f27342e175d0e070a3c5b103e2526217f27342e175d0e077e263451150104 \"\n",
    "encrypted_bytes = bytes.fromhex(encrypted_hex)\n",
    "\n",
    "# Known format \"crypto{\" suggests part of the key can be determined.\n",
    "# We'll assume the key might repeat itself across the encrypted message.\n",
    "# Hypothesis: Using 'crypto{' part to infer the repeating key pattern.\n",
    "known_part = \"crypto{\"\n",
    "partial_key = bytes([encrypted_bytes[i] ^ ord(known_part[i]) for i in range(len(known_part))])\n",
    "\n",
    "# Extend the key to the length of the encrypted message by repeating it\n",
    "full_key = partial_key * (len(encrypted_bytes) // len(partial_key)) + partial_key[:len(encrypted_bytes) % len(partial_key)]\n",
    "\n",
    "# Trying the full flag format length to refine the key more accurately\n",
    "# Re-examining the partial key and possible length based on the observed flag format structure\n",
    "possible_key_guess = \"myXORkey\"  # Hypothetical guess based on pattern matching and common phrases\n",
    "\n",
    "# Extend the key guess across the encrypted message length\n",
    "repeated_key = (possible_key_guess * (len(encrypted_bytes) // len(possible_key_guess))) + possible_key_guess[:len(encrypted_bytes) % len(possible_key_guess)]\n",
    "\n",
    "# Decrypt with this refined key\n",
    "decrypted_message = ''.join(chr(b ^ ord(k)) for b, k in zip(encrypted_bytes, repeated_key))\n",
    "decrypted_message"
   ],
   "id": "2f38b479af63592a",
   "outputs": [
    {
     "data": {
      "text/plain": [
       "'crypto{1f_y0u_Kn0w_En0uGH_y0u_Kn0w_1t_4ll}'"
      ]
     },
     "execution_count": 7,
     "metadata": {},
     "output_type": "execute_result"
    }
   ],
   "execution_count": 7
  },
  {
   "metadata": {},
   "cell_type": "code",
   "outputs": [],
   "execution_count": null,
   "source": "",
   "id": "9fb6d02ca63f5e4c"
  }
 ],
 "metadata": {
  "kernelspec": {
   "display_name": "Python 3",
   "language": "python",
   "name": "python3"
  },
  "language_info": {
   "codemirror_mode": {
    "name": "ipython",
    "version": 2
   },
   "file_extension": ".py",
   "mimetype": "text/x-python",
   "name": "python",
   "nbconvert_exporter": "python",
   "pygments_lexer": "ipython2",
   "version": "2.7.6"
  }
 },
 "nbformat": 4,
 "nbformat_minor": 5
}
